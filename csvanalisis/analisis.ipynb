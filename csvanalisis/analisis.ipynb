{
 "cells": [
  {
   "cell_type": "code",
   "execution_count": 12,
   "metadata": {
    "collapsed": true
   },
   "outputs": [],
   "source": [
    "import pandas as pd"
   ]
  },
  {
   "cell_type": "code",
   "execution_count": 13,
   "metadata": {
    "collapsed": false
   },
   "outputs": [],
   "source": [
    "games = pd.read_csv(\"games.csv\")\n",
    "games['summoners'] = games.summoner1.astype(str).str.cat(games.summoner2.astype(str), sep='-')\n",
    "wins = games.drop(games[games.win == False].index)\n",
    "loses = games.drop(games[games.win == True].index)"
   ]
  },
  {
   "cell_type": "code",
   "execution_count": 23,
   "metadata": {
    "collapsed": false
   },
   "outputs": [],
   "source": [
    "lanesumgroup = wins.groupby(['lane','summoners'])['win']\n",
    "champsumsgroup = wins.groupby(['summoners','champ'])['win']\n",
    "# wardsgroup = wins.groupby(['wardsPlaced'])['win']"
   ]
  },
  {
   "cell_type": "code",
   "execution_count": 24,
   "metadata": {
    "collapsed": false
   },
   "outputs": [],
   "source": [
    "lanesumframe = lanesumgroup.count().to_frame()\n",
    "champsumsframe = champsumsgroup.count().to_frame()"
   ]
  },
  {
   "cell_type": "code",
   "execution_count": 25,
   "metadata": {
    "collapsed": false
   },
   "outputs": [],
   "source": [
    "ulsframe = lanesumframe.unstack(0)\n",
    "ucsframe = champsumsframe.unstack(0)"
   ]
  },
  {
   "cell_type": "code",
   "execution_count": 26,
   "metadata": {
    "collapsed": false
   },
   "outputs": [],
   "source": [
    "uframefill = ulsframe.fillna(0)\n",
    "ucsframefill = ucsframe.fillna(0)"
   ]
  },
  {
   "cell_type": "code",
   "execution_count": 27,
   "metadata": {
    "collapsed": false
   },
   "outputs": [],
   "source": [
    "uframefill.columns=['bottom wins', 'jungle wins', 'mid wins', 'top wins']\n",
    "uframefill.astype(int).to_csv('lanesumswinratio.csv')\n",
    "ucsframefill.astype(int).to_csv('champsumswinratio.csv')\n"
   ]
  },
  {
   "cell_type": "code",
   "execution_count": null,
   "metadata": {
    "collapsed": true
   },
   "outputs": [],
   "source": []
  }
 ],
 "metadata": {
  "kernelspec": {
   "display_name": "Python 2",
   "language": "python",
   "name": "python2"
  },
  "language_info": {
   "codemirror_mode": {
    "name": "ipython",
    "version": 2
   },
   "file_extension": ".py",
   "mimetype": "text/x-python",
   "name": "python",
   "nbconvert_exporter": "python",
   "pygments_lexer": "ipython2",
   "version": "2.7.11"
  }
 },
 "nbformat": 4,
 "nbformat_minor": 0
}
