{
 "cells": [
  {
   "cell_type": "code",
   "execution_count": 2,
   "metadata": {
    "collapsed": true
   },
   "outputs": [],
   "source": [
    "import pandas as pd"
   ]
  },
  {
   "cell_type": "code",
   "execution_count": 3,
   "metadata": {
    "collapsed": false
   },
   "outputs": [],
   "source": [
    "games = pd.read_csv(\"games.csv\")\n",
    "games['summoners'] = games.summoner1.astype(str).str.cat(games.summoner2.astype(str), sep='-')\n",
    "wins = games.drop(games[games.win == False].index)\n",
    "loses = games.drop(games[games.win == True].index)"
   ]
  },
  {
   "cell_type": "code",
   "execution_count": 4,
   "metadata": {
    "collapsed": false
   },
   "outputs": [],
   "source": [
    "lanesumgroup = wins.groupby(['lane','summoners'])['win']\n",
    "#lanesumgroup = wins.groupby(['lane','summoners','champ'])['win']"
   ]
  },
  {
   "cell_type": "code",
   "execution_count": 5,
   "metadata": {
    "collapsed": false
   },
   "outputs": [],
   "source": [
    "lanesumframe = lanesumgroup.count().to_frame()"
   ]
  },
  {
   "cell_type": "code",
   "execution_count": 9,
   "metadata": {
    "collapsed": false
   },
   "outputs": [
    {
     "data": {
      "text/html": [
       "<div>\n",
       "<table border=\"1\" class=\"dataframe\">\n",
       "  <thead>\n",
       "    <tr>\n",
       "      <th></th>\n",
       "      <th colspan=\"4\" halign=\"left\">win</th>\n",
       "    </tr>\n",
       "    <tr>\n",
       "      <th>lane</th>\n",
       "      <th>BOTTOM</th>\n",
       "      <th>JUNGLE</th>\n",
       "      <th>MID</th>\n",
       "      <th>TOP</th>\n",
       "    </tr>\n",
       "    <tr>\n",
       "      <th>summoners</th>\n",
       "      <th></th>\n",
       "      <th></th>\n",
       "      <th></th>\n",
       "      <th></th>\n",
       "    </tr>\n",
       "  </thead>\n",
       "  <tbody>\n",
       "    <tr>\n",
       "      <th>Exhaust-Flash</th>\n",
       "      <td>31.0</td>\n",
       "      <td>NaN</td>\n",
       "      <td>NaN</td>\n",
       "      <td>1.0</td>\n",
       "    </tr>\n",
       "    <tr>\n",
       "      <th>Ghost-Flash</th>\n",
       "      <td>NaN</td>\n",
       "      <td>NaN</td>\n",
       "      <td>2.0</td>\n",
       "      <td>NaN</td>\n",
       "    </tr>\n",
       "    <tr>\n",
       "      <th>Heal-Flash</th>\n",
       "      <td>17.0</td>\n",
       "      <td>NaN</td>\n",
       "      <td>2.0</td>\n",
       "      <td>NaN</td>\n",
       "    </tr>\n",
       "    <tr>\n",
       "      <th>Ignite-Flash</th>\n",
       "      <td>19.0</td>\n",
       "      <td>NaN</td>\n",
       "      <td>11.0</td>\n",
       "      <td>4.0</td>\n",
       "    </tr>\n",
       "    <tr>\n",
       "      <th>Ignite-Teleport</th>\n",
       "      <td>NaN</td>\n",
       "      <td>NaN</td>\n",
       "      <td>1.0</td>\n",
       "      <td>1.0</td>\n",
       "    </tr>\n",
       "    <tr>\n",
       "      <th>Smite-Flash</th>\n",
       "      <td>NaN</td>\n",
       "      <td>74.0</td>\n",
       "      <td>NaN</td>\n",
       "      <td>NaN</td>\n",
       "    </tr>\n",
       "    <tr>\n",
       "      <th>Smite-Ghost</th>\n",
       "      <td>NaN</td>\n",
       "      <td>1.0</td>\n",
       "      <td>NaN</td>\n",
       "      <td>NaN</td>\n",
       "    </tr>\n",
       "    <tr>\n",
       "      <th>Smite-Ignite</th>\n",
       "      <td>NaN</td>\n",
       "      <td>17.0</td>\n",
       "      <td>NaN</td>\n",
       "      <td>NaN</td>\n",
       "    </tr>\n",
       "    <tr>\n",
       "      <th>Smite-Teleport</th>\n",
       "      <td>NaN</td>\n",
       "      <td>2.0</td>\n",
       "      <td>NaN</td>\n",
       "      <td>NaN</td>\n",
       "    </tr>\n",
       "    <tr>\n",
       "      <th>Teleport-Flash</th>\n",
       "      <td>NaN</td>\n",
       "      <td>NaN</td>\n",
       "      <td>11.0</td>\n",
       "      <td>46.0</td>\n",
       "    </tr>\n",
       "    <tr>\n",
       "      <th>Teleport-Ghost</th>\n",
       "      <td>NaN</td>\n",
       "      <td>NaN</td>\n",
       "      <td>NaN</td>\n",
       "      <td>2.0</td>\n",
       "    </tr>\n",
       "    <tr>\n",
       "      <th>Teleport-Ignite</th>\n",
       "      <td>NaN</td>\n",
       "      <td>NaN</td>\n",
       "      <td>NaN</td>\n",
       "      <td>4.0</td>\n",
       "    </tr>\n",
       "  </tbody>\n",
       "</table>\n",
       "</div>"
      ],
      "text/plain": [
       "                   win                   \n",
       "lane            BOTTOM JUNGLE   MID   TOP\n",
       "summoners                                \n",
       "Exhaust-Flash     31.0    NaN   NaN   1.0\n",
       "Ghost-Flash        NaN    NaN   2.0   NaN\n",
       "Heal-Flash        17.0    NaN   2.0   NaN\n",
       "Ignite-Flash      19.0    NaN  11.0   4.0\n",
       "Ignite-Teleport    NaN    NaN   1.0   1.0\n",
       "Smite-Flash        NaN   74.0   NaN   NaN\n",
       "Smite-Ghost        NaN    1.0   NaN   NaN\n",
       "Smite-Ignite       NaN   17.0   NaN   NaN\n",
       "Smite-Teleport     NaN    2.0   NaN   NaN\n",
       "Teleport-Flash     NaN    NaN  11.0  46.0\n",
       "Teleport-Ghost     NaN    NaN   NaN   2.0\n",
       "Teleport-Ignite    NaN    NaN   NaN   4.0"
      ]
     },
     "execution_count": 9,
     "metadata": {},
     "output_type": "execute_result"
    }
   ],
   "source": [
    "ulsframe = lanesumframe.unstack(0)"
   ]
  },
  {
   "cell_type": "code",
   "execution_count": 43,
   "metadata": {
    "collapsed": false,
    "scrolled": true
   },
   "outputs": [],
   "source": [
    "uframefill = ulsframe.fillna(0)\n",
    "uframefill.columns=['botwin', 'junwin', 'midwin', 'topwin']\n",
    "\n",
    "bot = uframefill['botwin']\n",
    "mid = uframefill['midwin']\n",
    "jun = uframefill['junwin']\n",
    "top = uframefill['topwin']\n",
    "\n",
    "bot = bot.astype(int).to_frame().fillna(0)\n",
    "mid = mid.astype(int).to_frame().fillna(0)\n",
    "jun = jun.astype(int).to_frame().fillna(0)\n",
    "top = top.astype(int).to_frame().fillna(0)"
   ]
  },
  {
   "cell_type": "code",
   "execution_count": 42,
   "metadata": {
    "collapsed": false
   },
   "outputs": [],
   "source": [
    "bot[bot > 0].to_csv('bot.csv')\n",
    "mid[mid > 0].to_csv('mid.csv')\n",
    "jun[jun > 0].to_csv('jun.csv')\n",
    "top[top > 0].to_csv('top.csv')\n"
   ]
  }
 ],
 "metadata": {
  "kernelspec": {
   "display_name": "Python 2",
   "language": "python",
   "name": "python2"
  },
  "language_info": {
   "codemirror_mode": {
    "name": "ipython",
    "version": 2
   },
   "file_extension": ".py",
   "mimetype": "text/x-python",
   "name": "python",
   "nbconvert_exporter": "python",
   "pygments_lexer": "ipython2",
   "version": "2.7.11"
  }
 },
 "nbformat": 4,
 "nbformat_minor": 0
}
