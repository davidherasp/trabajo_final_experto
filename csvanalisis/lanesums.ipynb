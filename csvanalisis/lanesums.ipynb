{
 "cells": [
  {
   "cell_type": "code",
   "execution_count": 12,
   "metadata": {
    "collapsed": true
   },
   "outputs": [],
   "source": [
    "import pandas as pd"
   ]
  },
  {
   "cell_type": "code",
   "execution_count": 13,
   "metadata": {
    "collapsed": false
   },
   "outputs": [],
   "source": [
    "games = pd.read_csv(\"games.csv\")\n",
    "games['summoners'] = games.summoner1.astype(str).str.cat(games.summoner2.astype(str), sep='-')\n",
    "wins = games.drop(games[games.win == False].index)\n",
    "loses = games.drop(games[games.win == True].index)"
   ]
  },
  {
   "cell_type": "code",
   "execution_count": 14,
   "metadata": {
    "collapsed": false
   },
   "outputs": [],
   "source": [
    "lanesumgroup = wins.groupby(['lane','summoners'])['win']\n",
    "#lanesumgroup = wins.groupby(['lane','summoners','champ'])['win']"
   ]
  },
  {
   "cell_type": "code",
   "execution_count": 15,
   "metadata": {
    "collapsed": false
   },
   "outputs": [],
   "source": [
    "lanesumframe = lanesumgroup.count().to_frame()"
   ]
  },
  {
   "cell_type": "code",
   "execution_count": 16,
   "metadata": {
    "collapsed": false
   },
   "outputs": [],
   "source": [
    "ulsframe = lanesumframe.unstack(0)\n"
   ]
  },
  {
   "cell_type": "code",
   "execution_count": 18,
   "metadata": {
    "collapsed": false,
    "scrolled": false
   },
   "outputs": [],
   "source": [
    "ulsframe.columns=['botwin', 'junwin', 'midwin', 'topwin']\n",
    "\n",
    "bot = ulsframe['botwin']\n",
    "mid = ulsframe['midwin']\n",
    "jun = ulsframe['junwin']\n",
    "top = ulsframe['topwin']\n",
    "\n",
    "bot = bot.to_frame()\n",
    "mid = mid.to_frame()\n",
    "jun = jun.to_frame()\n",
    "top = top.to_frame()"
   ]
  },
  {
   "cell_type": "code",
   "execution_count": 19,
   "metadata": {
    "collapsed": false
   },
   "outputs": [],
   "source": [
    "bot[pd.notnull(bot['botwin'])].astype(int).to_csv('bot.csv')\n",
    "mid[pd.notnull(mid['midwin'])].astype(int).to_csv('mid.csv')\n",
    "jun[pd.notnull(jun['junwin'])].astype(int).to_csv('jun.csv')\n",
    "top[pd.notnull(top['topwin'])].astype(int).to_csv('top.csv')"
   ]
  },
  {
   "cell_type": "code",
   "execution_count": null,
   "metadata": {
    "collapsed": true
   },
   "outputs": [],
   "source": []
  }
 ],
 "metadata": {
  "kernelspec": {
   "display_name": "Python 2",
   "language": "python",
   "name": "python2"
  },
  "language_info": {
   "codemirror_mode": {
    "name": "ipython",
    "version": 2
   },
   "file_extension": ".py",
   "mimetype": "text/x-python",
   "name": "python",
   "nbconvert_exporter": "python",
   "pygments_lexer": "ipython2",
   "version": "2.7.11"
  }
 },
 "nbformat": 4,
 "nbformat_minor": 0
}
